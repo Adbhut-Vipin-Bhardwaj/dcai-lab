{
 "cells": [
  {
   "cell_type": "markdown",
   "id": "fd318108",
   "metadata": {},
   "source": [
    "# Lab - Membership Inference"
   ]
  },
  {
   "cell_type": "markdown",
   "id": "3cebdbb7",
   "metadata": {},
   "source": [
    "## Install dependencies"
   ]
  },
  {
   "cell_type": "code",
   "execution_count": null,
   "id": "640a06ab",
   "metadata": {
    "scrolled": true
   },
   "outputs": [],
   "source": [
    "%pip install torch torchvision tqdm scikit-learn matplotlib"
   ]
  },
  {
   "cell_type": "markdown",
   "id": "960b3574",
   "metadata": {},
   "source": [
    "## Prepare the dataset\n",
    "\n",
    "This sets up three slices of CIFAR-10:\n",
    "\n",
    "- Train: the secret dataset that's used to train the target model (not available to the attacker)\n",
    "- Hold-out: a dataset that's available to the attacker\n",
    "- Test: a dataset used for evaluation of the membership inference attack (not available to the attacker)"
   ]
  },
  {
   "cell_type": "code",
   "execution_count": 2,
   "id": "b0ed9986",
   "metadata": {},
   "outputs": [],
   "source": [
    "import numpy as np\n",
    "import torch\n",
    "import torch.nn as nn\n",
    "from torch.utils.data import random_split, ConcatDataset\n",
    "from torchvision.transforms import ToTensor\n",
    "from torchvision.datasets import CIFAR10\n",
    "from tqdm.auto import tqdm\n",
    "import matplotlib.pyplot as plt"
   ]
  },
  {
   "cell_type": "code",
   "execution_count": 3,
   "id": "2a08c8f2",
   "metadata": {},
   "outputs": [
    {
     "name": "stdout",
     "output_type": "stream",
     "text": [
      "Files already downloaded and verified\n",
      "Files already downloaded and verified\n"
     ]
    }
   ],
   "source": [
    "cifar10_train = CIFAR10(root='./cifar10', train=True, download=True, transform=ToTensor())\n",
    "cifar10_test = CIFAR10(root='./cifar10', train=False, download=True, transform=ToTensor())\n",
    "cifar10_all = ConcatDataset([cifar10_train, cifar10_test])\n",
    "\n",
    "train_ds, test_ds, holdout_ds = \\\n",
    "    random_split(cifar10_all, [.25, .25, .5], generator=torch.Generator().manual_seed(1337))"
   ]
  },
  {
   "cell_type": "code",
   "execution_count": 4,
   "id": "9d8ed30c",
   "metadata": {},
   "outputs": [],
   "source": [
    "from torch.utils.data.dataset import Dataset\n",
    "\n",
    "class AppendDataset(Dataset):\n",
    "    '''\n",
    "    Appends a constant label to all points in a dataset.\n",
    "    '''\n",
    "    def __init__(self, ds, y):\n",
    "        self._ds = ds\n",
    "        self._y = y\n",
    "    \n",
    "    def __getitem__(self, idx):\n",
    "        x = self._ds[idx]\n",
    "        return x, self._y\n",
    "    \n",
    "    def __len__(self):\n",
    "        return len(self._ds)"
   ]
  },
  {
   "cell_type": "code",
   "execution_count": 5,
   "id": "d0828741",
   "metadata": {},
   "outputs": [],
   "source": [
    "mi_test_ds = ConcatDataset([AppendDataset(train_ds, True), AppendDataset(test_ds, False)])\n",
    "mi_test_ds_labels = np.array([i[1] for i in mi_test_ds])"
   ]
  },
  {
   "cell_type": "markdown",
   "id": "18999cda",
   "metadata": {},
   "source": [
    "## Load target model"
   ]
  },
  {
   "cell_type": "code",
   "execution_count": 6,
   "id": "8772fa21",
   "metadata": {},
   "outputs": [],
   "source": [
    "from target_model import get_model\n",
    "# note: the target_model.py file\n",
    "# is part of the lab infrastructure; the attacker does not get to see\n",
    "# the code inside target_model, only make black-box inferences\n",
    "# using the target model\n",
    "\n",
    "target_model = get_model()\n",
    "target_model.load_state_dict(torch.load('target_model.pt'))\n",
    "for param in target_model.parameters():\n",
    "    param.requires_grad = False\n",
    "\n",
    "if torch.cuda.is_available():\n",
    "    target_model = target_model.cuda()"
   ]
  },
  {
   "cell_type": "markdown",
   "id": "f8c9feb7",
   "metadata": {},
   "source": [
    "## Tools to evaluate your attack"
   ]
  },
  {
   "cell_type": "code",
   "execution_count": 7,
   "id": "d9f13b92",
   "metadata": {},
   "outputs": [],
   "source": [
    "from sklearn import metrics\n",
    "from matplotlib import pyplot as plt\n",
    "\n",
    "def run_attack(attack, batch_size=50):\n",
    "    loader = torch.utils.data.DataLoader(mi_test_ds, batch_size=batch_size, shuffle=False, pin_memory=True)\n",
    "    all_preds = []\n",
    "    for (images, classes), labels in loader:\n",
    "        with torch.no_grad():\n",
    "            model_input = images\n",
    "            if torch.cuda.is_available():\n",
    "                model_input = images.cuda()\n",
    "            target_model_outputs = nn.functional.softmax(target_model(model_input))\n",
    "        preds = attack(images, classes, target_model_outputs)\n",
    "        if hasattr(preds, 'cpu'):\n",
    "            preds = preds.cpu().detach().numpy()\n",
    "        labels = labels.cpu().detach().numpy()\n",
    "        all_preds.append(preds)\n",
    "    all_preds = np.concatenate(all_preds)\n",
    "    \n",
    "    return all_preds\n",
    "\n",
    "def plot_roc(*scores_and_names):\n",
    "    '''\n",
    "    Plots an ROC curve and computes AUC, given a list of scores and method names.\n",
    "    \n",
    "    Call this function like plot_roc(scores1, 'name of attack 1', scores2, 'name of attack 2', ...)\n",
    "    to compare different attacks.\n",
    "    '''\n",
    "    fpr = []\n",
    "    tpr = []\n",
    "    for score, name in zip(scores_and_names[::2], scores_and_names[1::2]):\n",
    "        fpr, tpr, thresholds = metrics.roc_curve(mi_test_ds_labels, score)\n",
    "        auc = metrics.roc_auc_score(mi_test_ds_labels, score)\n",
    "        plt.plot(fpr, tpr, label=f'{name} (AUC = {auc:.2f})')\n",
    "    plt.legend(loc=0)\n",
    "    plt.xlabel('False Positive Rate')\n",
    "    plt.ylabel('True Positive Rate')\n",
    "\n",
    "def compute_stats(*preds_and_names):\n",
    "    fpr = []\n",
    "    tpr = []\n",
    "    for pred, name in zip(preds_and_names[::2], preds_and_names[1::2]):\n",
    "        precision = metrics.precision_score(mi_test_ds_labels, pred)\n",
    "        recall = metrics.recall_score(mi_test_ds_labels, pred)\n",
    "        f1 = metrics.f1_score(mi_test_ds_labels, pred)\n",
    "        print(name)\n",
    "        print(f'  Precision: {precision:.4f}')\n",
    "        print(f'     Recall: {recall:.4f}')\n",
    "        print(f'   F1 Score: {f1:.4f}')\n",
    "        print()"
   ]
  },
  {
   "cell_type": "markdown",
   "id": "afb13735",
   "metadata": {},
   "source": [
    "## Membership inference attacks\n",
    "\n",
    "A membership inference attack is implemented as a function that takes in a tensor of data points (floats, `[N, C, H, W]`), class labels (integer-encoded, `[N]`), and model outputs from the black-box target model (floats, `[N, 10]`), and predicts whether or not they were used in the training set of the target model. The attack can either return an array of booleans or an array of scores. If it returns scores, the lab infrastructure can compute ROC and AUC for you.\n",
    "\n",
    "A higher score means that the data point is more likely to belong to the training set.\n",
    "\n",
    "Here, we implement a couple silly attacks, just to show you how the pieces of the lab infrastructure fit together."
   ]
  },
  {
   "cell_type": "code",
   "execution_count": 8,
   "id": "e5cccb9e",
   "metadata": {},
   "outputs": [],
   "source": [
    "def membership_inference_attack_random_bool(x, y, probs):\n",
    "    '''\n",
    "    A silly \"attack\" that returns random results.\n",
    "    '''\n",
    "    return np.random.uniform(size=len(x)) > 0.5\n",
    "\n",
    "def membership_inference_attack_random_score(x, y, probs):\n",
    "    '''\n",
    "    A silly \"attack\" that returns random scores.\n",
    "    '''\n",
    "    return np.random.uniform(size=len(x))"
   ]
  },
  {
   "cell_type": "code",
   "execution_count": 9,
   "id": "23723840",
   "metadata": {},
   "outputs": [
    {
     "name": "stdout",
     "output_type": "stream",
     "text": [
      "Random Prediction\n",
      "  Precision: 0.5035\n",
      "     Recall: 0.5077\n",
      "   F1 Score: 0.5056\n",
      "\n"
     ]
    }
   ],
   "source": [
    "preds = run_attack(membership_inference_attack_random_bool)\n",
    "compute_stats(preds, 'Random Prediction')\n",
    "# note: it doesn't make sense to compute an ROC curve with predictions (only scores)"
   ]
  },
  {
   "cell_type": "code",
   "execution_count": 10,
   "id": "41261718",
   "metadata": {},
   "outputs": [
    {
     "name": "stdout",
     "output_type": "stream",
     "text": [
      "Random Score, Threshold = 0.55\n",
      "  Precision: 0.5025\n",
      "     Recall: 0.4511\n",
      "   F1 Score: 0.4754\n",
      "\n"
     ]
    },
    {
     "data": {
      "image/png": "[encoded data removed]",
      "text/plain": [
       "<Figure size 640x480 with 1 Axes>"
      ]
     },
     "metadata": {},
     "output_type": "display_data"
    }
   ],
   "source": [
    "scores = run_attack(membership_inference_attack_random_score)\n",
    "plot_roc(scores, 'Random Score')\n",
    "compute_stats(scores > 0.55, 'Random Score, Threshold = 0.55')"
   ]
  },
  {
   "cell_type": "markdown",
   "id": "85745c6f",
   "metadata": {},
   "source": [
    "# Exercise: implement membership inference attacks\n",
    "\n",
    "Implement one (or multiple) of the membership inference attack algorithms described in lecture. We suggest that you start with some of the simpler ones (metric-based attacks), and then try a fancier attack (like the one using shadow models). If you use shadow models, you'll need to design your own neural network architectures (you don't know what the target model is using). You could try using pre-defined NN models, like `resnet18` from `torchvision.models`, or come up with your own.\n",
    "\n",
    "To design/train your membership attack, you may use the labeled `holdout_ds` however you like. That dataset is fully available to the attacker. You should not use the ground-truth `mi_test_ds` that is used for evaluating your solution.\n",
    "\n",
    "For methods that give scores, you can plot an ROC curve and look at the AUC. You can also think about how you'd choose a threshold (you don't have the ROC curve available to help you choose the threshold: the ROC curve is produced using ground truth data, which the attacker doesn't have access to)."
   ]
  },
  {
   "cell_type": "code",
   "execution_count": null,
   "id": "0ab5fbf5",
   "metadata": {},
   "outputs": [],
   "source": [
    "# YOUR CODE HERE"
   ]
  }
 ],
 "metadata": {
  "kernelspec": {
   "display_name": "Python 3 (ipykernel)",
   "language": "python",
   "name": "python3"
  },
  "language_info": {
   "codemirror_mode": {
    "name": "ipython",
    "version": 3
   },
   "file_extension": ".py",
   "mimetype": "text/x-python",
   "name": "python",
   "nbconvert_exporter": "python",
   "pygments_lexer": "ipython3",
   "version": "3.8.10"
  }
 },
 "nbformat": 4,
 "nbformat_minor": 5
}
